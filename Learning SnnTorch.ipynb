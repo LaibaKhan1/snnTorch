{
 "cells": [
  {
   "cell_type": "code",
   "execution_count": 3,
   "id": "c669d1f9",
   "metadata": {},
   "outputs": [
    {
     "name": "stdout",
     "output_type": "stream",
     "text": [
      "Mnist_train is 6000\n",
      "Converted vector: tensor([0., 0., 0., 0., 0., 0., 0., 0., 0., 0.])\n",
      "Converted vector: tensor([0, 0, 1, 0, 0, 0, 1, 0, 0, 1])\n"
     ]
    }
   ],
   "source": [
    "import snntorch as snn\n",
    "import torch\n",
    "import torchvision\n",
    "\n",
    "#Tarining Parameters \n",
    "batch_size = 128 #means in one irteration 128 image are processing\n",
    "data_path = 'tmp/data/mnist' \n",
    "num_classes = 10 #Mnist has 10 output classes \n",
    "\n",
    "dtype = torch.float\n",
    "\n",
    "from torchvision import datasets, transforms #torchvision is used to manipulate images or datasets\n",
    "\n",
    "transform = transforms.Compose([\n",
    "             transforms.Resize((28,28)),\n",
    "             transforms.Grayscale(),\n",
    "             transforms.ToTensor(), # it converts the image data (usually in the form of a PIL Image) into a PyTorch tensor.\n",
    "             transforms.Normalize((0,),(1,))])\n",
    "\n",
    "mnist_train = datasets.MNIST(data_path, train = True, download = True, transform = transform)\n",
    "\n",
    "#for reduced dataset into subsets\n",
    "from snntorch import utils\n",
    "\n",
    "subset = 10\n",
    "mnsit_train = utils.data_subset(mnist_train, subset)\n",
    "print(f\"Mnist_train is {len(mnist_train)}\")\n",
    "\n",
    "#DataLoaders\n",
    "from torch.utils.data import DataLoader\n",
    "\n",
    "train_loader = DataLoader(mnist_train, batch_size = batch_size, shuffle = True)\n",
    "\n",
    "num_steps = 10\n",
    "raw_vector = torch.ones(num_steps)*0\n",
    "rate_coded_vector = torch.bernoulli(raw_vector)\n",
    "print(f\"Converted vector: {rate_coded_vector}\")\n",
    "\n",
    "rate_coded_vector = torch.randint(0, 2, size=(num_steps,))\n",
    "print(f\"Converted vector: {rate_coded_vector}\")\n"
   ]
  },
  {
   "cell_type": "code",
   "execution_count": 1,
   "id": "12d9da5d",
   "metadata": {},
   "outputs": [
    {
     "ename": "RuntimeError",
     "evalue": "output with shape [1] doesn't match the broadcast shape [10, 1]",
     "output_type": "error",
     "traceback": [
      "\u001b[0;31m---------------------------------------------------------------------------\u001b[0m",
      "\u001b[0;31mRuntimeError\u001b[0m                              Traceback (most recent call last)",
      "\u001b[0;32m/tmp/ipykernel_57010/1501687843.py\u001b[0m in \u001b[0;36m<module>\u001b[0;34m\u001b[0m\n\u001b[1;32m     47\u001b[0m \u001b[0mmodel\u001b[0m \u001b[0;34m=\u001b[0m \u001b[0mSNN5to1\u001b[0m\u001b[0;34m(\u001b[0m\u001b[0;34m)\u001b[0m\u001b[0;34m\u001b[0m\u001b[0;34m\u001b[0m\u001b[0m\n\u001b[1;32m     48\u001b[0m \u001b[0minput_spikes\u001b[0m \u001b[0;34m=\u001b[0m \u001b[0mtorch\u001b[0m\u001b[0;34m.\u001b[0m\u001b[0mrandint\u001b[0m\u001b[0;34m(\u001b[0m\u001b[0;36m2\u001b[0m\u001b[0;34m,\u001b[0m \u001b[0msize\u001b[0m\u001b[0;34m=\u001b[0m\u001b[0;34m(\u001b[0m\u001b[0mbatch_size\u001b[0m\u001b[0;34m,\u001b[0m \u001b[0;36m5\u001b[0m\u001b[0;34m)\u001b[0m\u001b[0;34m)\u001b[0m\u001b[0;34m.\u001b[0m\u001b[0mfloat\u001b[0m\u001b[0;34m(\u001b[0m\u001b[0;34m)\u001b[0m  \u001b[0;31m# Generate random spikes\u001b[0m\u001b[0;34m\u001b[0m\u001b[0;34m\u001b[0m\u001b[0m\n\u001b[0;32m---> 49\u001b[0;31m \u001b[0moutput_spikes\u001b[0m \u001b[0;34m=\u001b[0m \u001b[0mmodel\u001b[0m\u001b[0;34m(\u001b[0m\u001b[0minput_spikes\u001b[0m\u001b[0;34m)\u001b[0m\u001b[0;34m\u001b[0m\u001b[0;34m\u001b[0m\u001b[0m\n\u001b[0m\u001b[1;32m     50\u001b[0m \u001b[0;34m\u001b[0m\u001b[0m\n\u001b[1;32m     51\u001b[0m \u001b[0;31m# Print output spikes\u001b[0m\u001b[0;34m\u001b[0m\u001b[0;34m\u001b[0m\u001b[0m\n",
      "\u001b[0;32m~/.local/lib/python3.10/site-packages/torch/nn/modules/module.py\u001b[0m in \u001b[0;36m_wrapped_call_impl\u001b[0;34m(self, *args, **kwargs)\u001b[0m\n\u001b[1;32m   1516\u001b[0m             \u001b[0;32mreturn\u001b[0m \u001b[0mself\u001b[0m\u001b[0;34m.\u001b[0m\u001b[0m_compiled_call_impl\u001b[0m\u001b[0;34m(\u001b[0m\u001b[0;34m*\u001b[0m\u001b[0margs\u001b[0m\u001b[0;34m,\u001b[0m \u001b[0;34m**\u001b[0m\u001b[0mkwargs\u001b[0m\u001b[0;34m)\u001b[0m  \u001b[0;31m# type: ignore[misc]\u001b[0m\u001b[0;34m\u001b[0m\u001b[0;34m\u001b[0m\u001b[0m\n\u001b[1;32m   1517\u001b[0m         \u001b[0;32melse\u001b[0m\u001b[0;34m:\u001b[0m\u001b[0;34m\u001b[0m\u001b[0;34m\u001b[0m\u001b[0m\n\u001b[0;32m-> 1518\u001b[0;31m             \u001b[0;32mreturn\u001b[0m \u001b[0mself\u001b[0m\u001b[0;34m.\u001b[0m\u001b[0m_call_impl\u001b[0m\u001b[0;34m(\u001b[0m\u001b[0;34m*\u001b[0m\u001b[0margs\u001b[0m\u001b[0;34m,\u001b[0m \u001b[0;34m**\u001b[0m\u001b[0mkwargs\u001b[0m\u001b[0;34m)\u001b[0m\u001b[0;34m\u001b[0m\u001b[0;34m\u001b[0m\u001b[0m\n\u001b[0m\u001b[1;32m   1519\u001b[0m \u001b[0;34m\u001b[0m\u001b[0m\n\u001b[1;32m   1520\u001b[0m     \u001b[0;32mdef\u001b[0m \u001b[0m_call_impl\u001b[0m\u001b[0;34m(\u001b[0m\u001b[0mself\u001b[0m\u001b[0;34m,\u001b[0m \u001b[0;34m*\u001b[0m\u001b[0margs\u001b[0m\u001b[0;34m,\u001b[0m \u001b[0;34m**\u001b[0m\u001b[0mkwargs\u001b[0m\u001b[0;34m)\u001b[0m\u001b[0;34m:\u001b[0m\u001b[0;34m\u001b[0m\u001b[0;34m\u001b[0m\u001b[0m\n",
      "\u001b[0;32m~/.local/lib/python3.10/site-packages/torch/nn/modules/module.py\u001b[0m in \u001b[0;36m_call_impl\u001b[0;34m(self, *args, **kwargs)\u001b[0m\n\u001b[1;32m   1525\u001b[0m                 \u001b[0;32mor\u001b[0m \u001b[0m_global_backward_pre_hooks\u001b[0m \u001b[0;32mor\u001b[0m \u001b[0m_global_backward_hooks\u001b[0m\u001b[0;34m\u001b[0m\u001b[0;34m\u001b[0m\u001b[0m\n\u001b[1;32m   1526\u001b[0m                 or _global_forward_hooks or _global_forward_pre_hooks):\n\u001b[0;32m-> 1527\u001b[0;31m             \u001b[0;32mreturn\u001b[0m \u001b[0mforward_call\u001b[0m\u001b[0;34m(\u001b[0m\u001b[0;34m*\u001b[0m\u001b[0margs\u001b[0m\u001b[0;34m,\u001b[0m \u001b[0;34m**\u001b[0m\u001b[0mkwargs\u001b[0m\u001b[0;34m)\u001b[0m\u001b[0;34m\u001b[0m\u001b[0;34m\u001b[0m\u001b[0m\n\u001b[0m\u001b[1;32m   1528\u001b[0m \u001b[0;34m\u001b[0m\u001b[0m\n\u001b[1;32m   1529\u001b[0m         \u001b[0;32mtry\u001b[0m\u001b[0;34m:\u001b[0m\u001b[0;34m\u001b[0m\u001b[0;34m\u001b[0m\u001b[0m\n",
      "\u001b[0;32m/tmp/ipykernel_57010/1501687843.py\u001b[0m in \u001b[0;36mforward\u001b[0;34m(self, input_spikes)\u001b[0m\n\u001b[1;32m     40\u001b[0m \u001b[0;34m\u001b[0m\u001b[0m\n\u001b[1;32m     41\u001b[0m     \u001b[0;32mdef\u001b[0m \u001b[0mforward\u001b[0m\u001b[0;34m(\u001b[0m\u001b[0mself\u001b[0m\u001b[0;34m,\u001b[0m \u001b[0minput_spikes\u001b[0m\u001b[0;34m)\u001b[0m\u001b[0;34m:\u001b[0m\u001b[0;34m\u001b[0m\u001b[0;34m\u001b[0m\u001b[0m\n\u001b[0;32m---> 42\u001b[0;31m         \u001b[0mspikes\u001b[0m \u001b[0;34m=\u001b[0m \u001b[0mself\u001b[0m\u001b[0;34m.\u001b[0m\u001b[0mlayer1\u001b[0m\u001b[0;34m(\u001b[0m\u001b[0minput_spikes\u001b[0m\u001b[0;34m)\u001b[0m\u001b[0;34m\u001b[0m\u001b[0;34m\u001b[0m\u001b[0m\n\u001b[0m\u001b[1;32m     43\u001b[0m         \u001b[0;32mreturn\u001b[0m \u001b[0mspikes\u001b[0m\u001b[0;34m\u001b[0m\u001b[0;34m\u001b[0m\u001b[0m\n\u001b[1;32m     44\u001b[0m \u001b[0;34m\u001b[0m\u001b[0m\n",
      "\u001b[0;32m~/.local/lib/python3.10/site-packages/torch/nn/modules/module.py\u001b[0m in \u001b[0;36m_wrapped_call_impl\u001b[0;34m(self, *args, **kwargs)\u001b[0m\n\u001b[1;32m   1516\u001b[0m             \u001b[0;32mreturn\u001b[0m \u001b[0mself\u001b[0m\u001b[0;34m.\u001b[0m\u001b[0m_compiled_call_impl\u001b[0m\u001b[0;34m(\u001b[0m\u001b[0;34m*\u001b[0m\u001b[0margs\u001b[0m\u001b[0;34m,\u001b[0m \u001b[0;34m**\u001b[0m\u001b[0mkwargs\u001b[0m\u001b[0;34m)\u001b[0m  \u001b[0;31m# type: ignore[misc]\u001b[0m\u001b[0;34m\u001b[0m\u001b[0;34m\u001b[0m\u001b[0m\n\u001b[1;32m   1517\u001b[0m         \u001b[0;32melse\u001b[0m\u001b[0;34m:\u001b[0m\u001b[0;34m\u001b[0m\u001b[0;34m\u001b[0m\u001b[0m\n\u001b[0;32m-> 1518\u001b[0;31m             \u001b[0;32mreturn\u001b[0m \u001b[0mself\u001b[0m\u001b[0;34m.\u001b[0m\u001b[0m_call_impl\u001b[0m\u001b[0;34m(\u001b[0m\u001b[0;34m*\u001b[0m\u001b[0margs\u001b[0m\u001b[0;34m,\u001b[0m \u001b[0;34m**\u001b[0m\u001b[0mkwargs\u001b[0m\u001b[0;34m)\u001b[0m\u001b[0;34m\u001b[0m\u001b[0;34m\u001b[0m\u001b[0m\n\u001b[0m\u001b[1;32m   1519\u001b[0m \u001b[0;34m\u001b[0m\u001b[0m\n\u001b[1;32m   1520\u001b[0m     \u001b[0;32mdef\u001b[0m \u001b[0m_call_impl\u001b[0m\u001b[0;34m(\u001b[0m\u001b[0mself\u001b[0m\u001b[0;34m,\u001b[0m \u001b[0;34m*\u001b[0m\u001b[0margs\u001b[0m\u001b[0;34m,\u001b[0m \u001b[0;34m**\u001b[0m\u001b[0mkwargs\u001b[0m\u001b[0;34m)\u001b[0m\u001b[0;34m:\u001b[0m\u001b[0;34m\u001b[0m\u001b[0;34m\u001b[0m\u001b[0m\n",
      "\u001b[0;32m~/.local/lib/python3.10/site-packages/torch/nn/modules/module.py\u001b[0m in \u001b[0;36m_call_impl\u001b[0;34m(self, *args, **kwargs)\u001b[0m\n\u001b[1;32m   1525\u001b[0m                 \u001b[0;32mor\u001b[0m \u001b[0m_global_backward_pre_hooks\u001b[0m \u001b[0;32mor\u001b[0m \u001b[0m_global_backward_hooks\u001b[0m\u001b[0;34m\u001b[0m\u001b[0;34m\u001b[0m\u001b[0m\n\u001b[1;32m   1526\u001b[0m                 or _global_forward_hooks or _global_forward_pre_hooks):\n\u001b[0;32m-> 1527\u001b[0;31m             \u001b[0;32mreturn\u001b[0m \u001b[0mforward_call\u001b[0m\u001b[0;34m(\u001b[0m\u001b[0;34m*\u001b[0m\u001b[0margs\u001b[0m\u001b[0;34m,\u001b[0m \u001b[0;34m**\u001b[0m\u001b[0mkwargs\u001b[0m\u001b[0;34m)\u001b[0m\u001b[0;34m\u001b[0m\u001b[0;34m\u001b[0m\u001b[0m\n\u001b[0m\u001b[1;32m   1528\u001b[0m \u001b[0;34m\u001b[0m\u001b[0m\n\u001b[1;32m   1529\u001b[0m         \u001b[0;32mtry\u001b[0m\u001b[0;34m:\u001b[0m\u001b[0;34m\u001b[0m\u001b[0;34m\u001b[0m\u001b[0m\n",
      "\u001b[0;32m/tmp/ipykernel_57010/1501687843.py\u001b[0m in \u001b[0;36mforward\u001b[0;34m(self, spike_train)\u001b[0m\n\u001b[1;32m     26\u001b[0m \u001b[0;34m\u001b[0m\u001b[0m\n\u001b[1;32m     27\u001b[0m         \u001b[0;31m# Integrate input and update membrane potential\u001b[0m\u001b[0;34m\u001b[0m\u001b[0;34m\u001b[0m\u001b[0m\n\u001b[0;32m---> 28\u001b[0;31m         \u001b[0mself\u001b[0m\u001b[0;34m.\u001b[0m\u001b[0mmembrane_potential\u001b[0m \u001b[0;34m+=\u001b[0m \u001b[0mweighted_input\u001b[0m\u001b[0;34m\u001b[0m\u001b[0;34m\u001b[0m\u001b[0m\n\u001b[0m\u001b[1;32m     29\u001b[0m \u001b[0;34m\u001b[0m\u001b[0m\n\u001b[1;32m     30\u001b[0m         \u001b[0;31m# Check for spikes and reset membrane potential\u001b[0m\u001b[0;34m\u001b[0m\u001b[0;34m\u001b[0m\u001b[0m\n",
      "\u001b[0;31mRuntimeError\u001b[0m: output with shape [1] doesn't match the broadcast shape [10, 1]"
     ]
    }
   ],
   "source": [
    "import torch\n",
    "import torch.nn as nn\n",
    "import torch.nn.functional as F\n",
    "\n",
    "class SpikingNeuronLayer(nn.Module):\n",
    "    def __init__(self, num_inputs, num_neurons, threshold=1.0, decay=0.9):\n",
    "        super(SpikingNeuronLayer, self).__init__()\n",
    "        self.num_inputs = num_inputs\n",
    "        self.num_neurons = num_neurons\n",
    "        self.threshold = threshold\n",
    "        self.decay = decay\n",
    "\n",
    "        # Weight matrix and threshold for each neuron\n",
    "        self.weights = nn.Parameter(torch.rand(num_neurons, num_inputs))\n",
    "        self.membrane_potential = torch.zeros(num_neurons, requires_grad=False)\n",
    "\n",
    "    def forward(self, spike_train):\n",
    "        # Ensure the data type of spike_train matches the weights\n",
    "        spike_train = spike_train.float()\n",
    "\n",
    "        # Input spikes multiplied by weights\n",
    "        weighted_input = torch.mm(spike_train, self.weights.t())\n",
    "\n",
    "        # Update membrane potential with decay\n",
    "        self.membrane_potential = self.membrane_potential * self.decay\n",
    "\n",
    "        # Integrate input and update membrane potential\n",
    "        self.membrane_potential += weighted_input\n",
    "\n",
    "        # Check for spikes and reset membrane potential\n",
    "        spikes = F.relu(torch.sign(self.membrane_potential - self.threshold))\n",
    "        self.membrane_potential = torch.where(spikes > 0, torch.zeros_like(self.membrane_potential), self.membrane_potential)\n",
    "\n",
    "        return spikes\n",
    "\n",
    "class SNN5to1(nn.Module):\n",
    "    def __init__(self):\n",
    "        super(SNN5to1, self).__init__()\n",
    "        self.layer1 = SpikingNeuronLayer(num_inputs=5, num_neurons=1)\n",
    "\n",
    "    def forward(self, input_spikes):\n",
    "        spikes = self.layer1(input_spikes)\n",
    "        return spikes\n",
    "\n",
    "# Example usage\n",
    "batch_size = 10  # Define the batch size\n",
    "model = SNN5to1()\n",
    "input_spikes = torch.randint(2, size=(batch_size, 5)).float()  # Generate random spikes\n",
    "output_spikes = model(input_spikes)\n",
    "\n",
    "# Print output spikes\n",
    "print(\"Input Spikes:\\n\", input_spikes)\n",
    "print(\"Output Spikes:\\n\", output_spikes)\n"
   ]
  },
  {
   "cell_type": "code",
   "execution_count": 2,
   "id": "2905b01b",
   "metadata": {},
   "outputs": [
    {
     "name": "stdout",
     "output_type": "stream",
     "text": [
      "Number of spikes from the 5-to-1 neuron: 3.0\n"
     ]
    }
   ],
   "source": [
    "import snntorch as snn\n",
    "from snntorch import spikegen\n",
    "\n",
    "import torch\n",
    "\n",
    "def leaky_integrate_and_fire(mem, x, w, beta, threshold=1):\n",
    "    spk = (mem > threshold).float()\n",
    "    mem = beta * mem + w * x - spk * threshold\n",
    "    return spk, mem\n",
    "\n",
    "num_neurons = 5\n",
    "num_output_neurons = 1\n",
    "num_steps = 50\n",
    "\n",
    "x = torch.cat((torch.zeros(num_neurons), torch.ones(num_steps - num_neurons) * 0.5), 0)\n",
    "mem = torch.zeros(num_output_neurons)\n",
    "spk_out = torch.zeros(num_output_neurons)\n",
    "mem_rec = []\n",
    "spk_rec = []\n",
    "\n",
    "w = 0.4\n",
    "beta = 0.819\n",
    "\n",
    "num_output_spikes = 0  # Variable to count the number of spikes from the output neuron\n",
    "\n",
    "for step in range(num_steps):\n",
    "    input_spike, mem = leaky_integrate_and_fire(mem, x[step], w=w, beta=beta)\n",
    "    mem_rec.append(mem.item())\n",
    "    spk_rec.append(input_spike.item())\n",
    "    \n",
    "    num_output_spikes += input_spike.item()  # Counting the spikes from the output neuron\n",
    "\n",
    "print(f\"Number of spikes from the 5-to-1 neuron: {num_output_spikes}\")"
   ]
  },
  {
   "cell_type": "code",
   "execution_count": 4,
   "id": "8a3fa6cd",
   "metadata": {},
   "outputs": [
    {
     "name": "stdout",
     "output_type": "stream",
     "text": [
      "Number of spikes from the neuron: 3.0\n"
     ]
    }
   ],
   "source": [
    "import torch\n",
    "\n",
    "def leaky_integrate_and_fire(mem, x, w, beta, threshold=1):\n",
    "    spk = (mem > threshold).float()\n",
    "    mem = beta * mem + torch.matmul(w, x) - spk * threshold\n",
    "    return spk, mem\n",
    "\n",
    "num_neurons = 5\n",
    "num_output_neurons = 1\n",
    "num_steps = 10\n",
    "\n",
    "# Each column of x corresponds to the input from one neuron\n",
    "x = torch.zeros(num_steps, num_neurons)\n",
    "x[num_neurons:, :] = 0.5  # Assuming after 'num_neurons' steps, all inputs are 0.5\n",
    "\n",
    "mem = torch.zeros(num_output_neurons)\n",
    "spk_out = torch.zeros(num_output_neurons)\n",
    "mem_rec = []\n",
    "spk_rec = []\n",
    "\n",
    "# w should be a vector of size num_neurons\n",
    "w = torch.full((num_neurons,), 0.4)\n",
    "beta = 0.819\n",
    "\n",
    "num_output_spikes = 0\n",
    "\n",
    "for step in range(num_steps):\n",
    "    input_spike, mem = leaky_integrate_and_fire(mem, x[step], w=w, beta=beta)\n",
    "    mem_rec.append(mem.item())\n",
    "    spk_rec.append(input_spike.item())\n",
    "    \n",
    "    num_output_spikes += input_spike.item()\n",
    "\n",
    "print(f\"Number of spikes from the neuron: {num_output_spikes}\")\n"
   ]
  },
  {
   "cell_type": "code",
   "execution_count": null,
   "id": "727bb7b4",
   "metadata": {},
   "outputs": [],
   "source": []
  }
 ],
 "metadata": {
  "kernelspec": {
   "display_name": "Python 3 (ipykernel)",
   "language": "python",
   "name": "python3"
  },
  "language_info": {
   "codemirror_mode": {
    "name": "ipython",
    "version": 3
   },
   "file_extension": ".py",
   "mimetype": "text/x-python",
   "name": "python",
   "nbconvert_exporter": "python",
   "pygments_lexer": "ipython3",
   "version": "3.10.12"
  }
 },
 "nbformat": 4,
 "nbformat_minor": 5
}
