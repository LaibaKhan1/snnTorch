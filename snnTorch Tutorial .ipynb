{
 "cells": [
  {
   "cell_type": "code",
   "execution_count": 10,
   "id": "83a08a87",
   "metadata": {},
   "outputs": [],
   "source": [
    "#@title Plotting Settings\n",
    "def plot_cur_mem_spk(cur, mem, spk, thr_line=False, vline=False, title=False, ylim_max1=1.25, ylim_max2=1.25):\n",
    "  # Generate Plots\n",
    "  fig, ax = plt.subplots(3, figsize=(8,6), sharex=True, \n",
    "                        gridspec_kw = {'height_ratios': [1, 1, 0.4]})\n",
    "\n",
    "  # Plot input current\n",
    "  ax[0].plot(cur, c=\"tab:orange\")\n",
    "  ax[0].set_ylim([0, ylim_max1])\n",
    "  ax[0].set_xlim([0, 200])\n",
    "  ax[0].set_ylabel(\"Input Current ()\")\n",
    "  if title:\n",
    "    ax[0].set_title(title)\n",
    "\n",
    "  # Plot membrane potential\n",
    "  ax[1].plot(mem)\n",
    "  ax[1].set_ylim([0, ylim_max2]) \n",
    "  ax[1].set_ylabel(\"Membrane Potential ()\")\n",
    "  if thr_line:\n",
    "    ax[1].axhline(y=thr_line, alpha=0.25, linestyle=\"dashed\", c=\"black\", linewidth=2)\n",
    "  plt.xlabel(\"Time step\")\n",
    "\n",
    "  # Plot output spike using spikeplot\n",
    "  splt.raster(spk, ax[2], s=400, c=\"black\", marker=\"|\")\n",
    "  if vline:\n",
    "    ax[2].axvline(x=vline, ymin=0, ymax=6.75, alpha = 0.15, linestyle=\"dashed\", c=\"black\", linewidth=2, zorder=0, clip_on=False)\n",
    "  plt.ylabel(\"Output spikes\")\n",
    "  plt.yticks([]) \n",
    "\n",
    "  plt.show()\n",
    "\n",
    "def plot_snn_spikes(spk_in, spk1_rec, spk2_rec, title):\n",
    "  # Generate Plots\n",
    "  fig, ax = plt.subplots(3, figsize=(8,7), sharex=True, \n",
    "                        gridspec_kw = {'height_ratios': [1, 1, 0.4]})\n",
    "\n",
    "  # Plot input spikes\n",
    "  splt.raster(spk_in[:,0], ax[0], s=0.03, c=\"black\")\n",
    "  ax[0].set_ylabel(\"Input Spikes\")\n",
    "  ax[0].set_title(title)\n",
    "\n",
    "  # Plot hidden layer spikes\n",
    "  splt.raster(spk1_rec.reshape(num_steps, -1), ax[1], s = 0.05, c=\"black\")\n",
    "  ax[1].set_ylabel(\"Hidden Layer\")\n",
    "\n",
    "  # Plot output spikes\n",
    "  splt.raster(spk2_rec.reshape(num_steps, -1), ax[2], c=\"black\", marker=\"|\")\n",
    "  ax[2].set_ylabel(\"Output Spikes\")\n",
    "  ax[2].set_ylim([0, 10])\n",
    "\n",
    "  plt.show()\n",
    "\n",
    "def dvs_animator(spike_data):\n",
    "  fig, ax = plt.subplots()\n",
    "  anim = splt.animator((spike_data[:,0] + spike_data[:,1]), fig, ax)\n",
    "  return anim\n"
   ]
  },
  {
   "cell_type": "code",
   "execution_count": 2,
   "id": "15649d2c",
   "metadata": {},
   "outputs": [
    {
     "name": "stderr",
     "output_type": "stream",
     "text": [
      "/home/laibakhan/.local/lib/python3.10/site-packages/pandas/core/arrays/masked.py:62: UserWarning: Pandas requires version '1.3.4' or newer of 'bottleneck' (version '1.3.2' currently installed).\n",
      "  from pandas.core import (\n"
     ]
    }
   ],
   "source": [
    "import snntorch as snn\n",
    "from snntorch import spikeplot as splt\n",
    "import torch\n",
    "\n",
    "import matplotlib.pyplot as plt\n",
    "from IPython.display import HTML"
   ]
  },
  {
   "cell_type": "markdown",
   "id": "07b20ea2",
   "metadata": {},
   "source": [
    "# 1. The Leaky Integrate-and-Fire Neuron\n",
    "   \n",
    "   \n",
    "          X -----------> 0 -----------> spike{0,1}\n",
    "                        LIF\n",
    "       (input)        (neuron)\n",
    "\n",
    "if membrane potential reaches some thershold, it gets excited then it's going to trigger some output spike activity and then spike goint to be zero or 1\n",
    "\n",
    "\n",
    "we want to excite neuron in some way: There are multiple ways \n",
    "1) input spike\n",
    "2) step current\n",
    "3) constant current"
   ]
  },
  {
   "cell_type": "code",
   "execution_count": 14,
   "id": "4ea7a872",
   "metadata": {},
   "outputs": [
    {
     "data": {
      "image/png": "[encoded data removed]",
      "text/plain": [
       "<Figure size 576x432 with 3 Axes>"
      ]
     },
     "metadata": {
      "needs_background": "light"
     },
     "output_type": "display_data"
    }
   ],
   "source": [
    "lif = snn.Leaky(beta=0.8) #decay rate of neuron membrane potential (an inverse time constant)\n",
    "\n",
    "num_steps = 200 #to simulate\n",
    "x = torch.cat((torch.zeros(10), torch.ones(20)*0.21, torch.zeros(170))) #step current\n",
    "mem = torch.zeros(1)\n",
    "spk = torch.zeros(1)\n",
    "\n",
    "\n",
    "# Neuron SIMULATION\n",
    "mem_rec = []\n",
    "spk_rec = []\n",
    "\n",
    "for step in range (num_steps):\n",
    "    spk, mem = lif(x[step], mem)\n",
    "    mem_rec.append(mem)\n",
    "    spk_rec.append(spk)\n",
    "    \n",
    "# convert lists to tensors\n",
    "mem_rec = torch.stack(mem_rec)\n",
    "spk_rec = torch.stack(spk_rec)    \n",
    "   \n",
    "plot_cur_mem_spk(x, mem_rec, spk_rec, thr_line=1, ylim_max1 = 1.0,title = \" snn.leaky Neuron Model\")    "
   ]
  },
  {
   "cell_type": "markdown",
   "id": "84998c1a",
   "metadata": {},
   "source": [
    "# Train an SNN Classifier"
   ]
  },
  {
   "cell_type": "code",
   "execution_count": 23,
   "id": "813e5545",
   "metadata": {},
   "outputs": [],
   "source": [
    "import torch.nn as nn #pytorch layers\n",
    "from torch.utils.data import DataLoader #mnist data set\n",
    "from torchvision import datasets, transforms\n",
    "import numpy as np \n",
    "import itertools # to iterate over sample of data"
   ]
  },
  {
   "cell_type": "markdown",
   "id": "95a03eaf",
   "metadata": {},
   "source": [
    "#### DataLoading the mnist data set"
   ]
  },
  {
   "cell_type": "code",
   "execution_count": 28,
   "id": "3a3bc774",
   "metadata": {},
   "outputs": [],
   "source": [
    "batch_size = 128 # data set divided into bite sized pieces means 128 samples\n",
    "data_path = './data'\n",
    "\n",
    "dtype = torch.float\n",
    "device = torch.device(\"cuda\") if torch.cuda.is_available() else torch.device(\"cpu\")"
   ]
  },
  {
   "cell_type": "code",
   "execution_count": 29,
   "id": "241313a6",
   "metadata": {},
   "outputs": [
    {
     "name": "stdout",
     "output_type": "stream",
     "text": [
      "Downloading http://yann.lecun.com/exdb/mnist/train-images-idx3-ubyte.gz\n",
      "Downloading http://yann.lecun.com/exdb/mnist/train-images-idx3-ubyte.gz to ./data/MNIST/raw/train-images-idx3-ubyte.gz\n"
     ]
    },
    {
     "name": "stderr",
     "output_type": "stream",
     "text": [
      "100.0%\n"
     ]
    },
    {
     "name": "stdout",
     "output_type": "stream",
     "text": [
      "Extracting ./data/MNIST/raw/train-images-idx3-ubyte.gz to ./data/MNIST/raw\n",
      "\n",
      "Downloading http://yann.lecun.com/exdb/mnist/train-labels-idx1-ubyte.gz\n",
      "Downloading http://yann.lecun.com/exdb/mnist/train-labels-idx1-ubyte.gz to ./data/MNIST/raw/train-labels-idx1-ubyte.gz\n"
     ]
    },
    {
     "name": "stderr",
     "output_type": "stream",
     "text": [
      "100.0%\n"
     ]
    },
    {
     "name": "stdout",
     "output_type": "stream",
     "text": [
      "Extracting ./data/MNIST/raw/train-labels-idx1-ubyte.gz to ./data/MNIST/raw\n",
      "\n",
      "Downloading http://yann.lecun.com/exdb/mnist/t10k-images-idx3-ubyte.gz\n",
      "Downloading http://yann.lecun.com/exdb/mnist/t10k-images-idx3-ubyte.gz to ./data/MNIST/raw/t10k-images-idx3-ubyte.gz\n"
     ]
    },
    {
     "name": "stderr",
     "output_type": "stream",
     "text": [
      "100.0%\n"
     ]
    },
    {
     "name": "stdout",
     "output_type": "stream",
     "text": [
      "Extracting ./data/MNIST/raw/t10k-images-idx3-ubyte.gz to ./data/MNIST/raw\n",
      "\n",
      "Downloading http://yann.lecun.com/exdb/mnist/t10k-labels-idx1-ubyte.gz\n"
     ]
    },
    {
     "name": "stderr",
     "output_type": "stream",
     "text": [
      "\r",
      "100.0%"
     ]
    },
    {
     "name": "stdout",
     "output_type": "stream",
     "text": [
      "Downloading http://yann.lecun.com/exdb/mnist/t10k-labels-idx1-ubyte.gz to ./data/MNIST/raw/t10k-labels-idx1-ubyte.gz\n",
      "Extracting ./data/MNIST/raw/t10k-labels-idx1-ubyte.gz to ./data/MNIST/raw\n",
      "\n"
     ]
    },
    {
     "name": "stderr",
     "output_type": "stream",
     "text": [
      "\n"
     ]
    }
   ],
   "source": [
    "transform = transforms.Compose([\n",
    "            transforms.Resize((28, 28)),\n",
    "            transforms.Grayscale(),\n",
    "            transforms.ToTensor(),\n",
    "            transforms.Normalize((0,), (1,))])\n",
    "\n",
    "mnist_train = datasets.MNIST(data_path, train=True, download=True, transform=transform)\n",
    "mnist_test = datasets.MNIST(data_path, train=False, download=True, transform=transform)\n",
    "     "
   ]
  },
  {
   "cell_type": "code",
   "execution_count": 31,
   "id": "fe85123e",
   "metadata": {},
   "outputs": [],
   "source": [
    "train_loader = DataLoader(mnist_train, batch_size=batch_size, shuffle=True, drop_last=True)\n",
    "test_loader = DataLoader(mnist_test, batch_size=batch_size, shuffle=True, drop_last=True)"
   ]
  },
  {
   "cell_type": "markdown",
   "id": "c41be601",
   "metadata": {},
   "source": [
    "### Fully Connected SNN"
   ]
  },
  {
   "cell_type": "code",
   "execution_count": 33,
   "id": "0788fb73",
   "metadata": {},
   "outputs": [
    {
     "ename": "AttributeError",
     "evalue": "module 'torch.nn' has no attribute 'module'",
     "output_type": "error",
     "traceback": [
      "\u001b[0;31m---------------------------------------------------------------------------\u001b[0m",
      "\u001b[0;31mAttributeError\u001b[0m                            Traceback (most recent call last)",
      "\u001b[0;32m/tmp/ipykernel_61172/1612175186.py\u001b[0m in \u001b[0;36m<module>\u001b[0;34m\u001b[0m\n\u001b[1;32m     12\u001b[0m \u001b[0;34m\u001b[0m\u001b[0m\n\u001b[1;32m     13\u001b[0m \u001b[0;31m# define network\u001b[0m\u001b[0;34m\u001b[0m\u001b[0;34m\u001b[0m\u001b[0m\n\u001b[0;32m---> 14\u001b[0;31m \u001b[0;32mclass\u001b[0m \u001b[0mNet\u001b[0m\u001b[0;34m(\u001b[0m\u001b[0mnn\u001b[0m\u001b[0;34m.\u001b[0m\u001b[0mmodule\u001b[0m\u001b[0;34m)\u001b[0m\u001b[0;34m:\u001b[0m\u001b[0;34m\u001b[0m\u001b[0;34m\u001b[0m\u001b[0m\n\u001b[0m\u001b[1;32m     15\u001b[0m     \u001b[0;32mdef\u001b[0m \u001b[0m__init__\u001b[0m\u001b[0;34m(\u001b[0m\u001b[0mself\u001b[0m\u001b[0;34m)\u001b[0m\u001b[0;34m:\u001b[0m\u001b[0;34m\u001b[0m\u001b[0;34m\u001b[0m\u001b[0m\n\u001b[1;32m     16\u001b[0m         \u001b[0msuper\u001b[0m\u001b[0;34m(\u001b[0m\u001b[0;34m)\u001b[0m\u001b[0;34m.\u001b[0m\u001b[0m__init__\u001b[0m\u001b[0;34m(\u001b[0m\u001b[0;34m)\u001b[0m\u001b[0;34m\u001b[0m\u001b[0;34m\u001b[0m\u001b[0m\n",
      "\u001b[0;31mAttributeError\u001b[0m: module 'torch.nn' has no attribute 'module'"
     ]
    }
   ],
   "source": [
    "from snntorch import surrogate\n",
    "\n",
    "# network architecture \n",
    "\n",
    "num_inputs = 784 # 28*28\n",
    "num_hidden = 1000\n",
    "num_outputs = 10\n",
    "\n",
    "num_steps = 25\n",
    "beta = 0.95 # at every time step we are going to see 5% decrease of membrane potential from the previous mem\n",
    "\n",
    "\n",
    "# define network\n",
    "class Net(nn.module):\n",
    "    def __init__(self):\n",
    "        super().__init__()\n",
    "        \n",
    "        # Initialize layers\n",
    "        self.fc1 = nn.Linear(num_inputs, num_hidden)\n",
    "        self.lif1 = snn.Leaky(beta=beta)\n",
    "        self.fc2 = nn.Linear(num_hidden, num_outputs)\n",
    "        self.lif2 = snn.Leaky(beta=beta)\n",
    "        \n",
    "    def forward(self, x):\n",
    "        mem1 = self.lif1.init_leaky()\n",
    "        mem2 = self.lif2.init_leaky()\n",
    "        \n",
    "        #record the final layer \n",
    "        spk2_rec = []\n",
    "        mem2_rec = []\n",
    "        \n",
    "        #time loop\n",
    "        for step in range(num_steps):\n",
    "            cur1 = self.fc1(x.flatten(1)) #batch128 x 28*28 \n",
    "            spk1, mem1 = self.lif1(cur1, mem1) # membrane exceeds the threshold spike one and will be zero if membrane does't exceed\n",
    "            cur2 = self.fc2(spk1) #batch128 x 28*28 \n",
    "            spk2, mem2 = self.lif2(cur2, mem2) \n",
    "            \n",
    "            #store in list\n",
    "            spk2_rec.append(spk2)\n",
    "            mem2_rec.append(mem2)\n",
    "            \n",
    "        return torch.slack(spk2_rec, dim=0), torch.stack(mem2_rec,dim=0) #time step x batch x num_out\n",
    "        "
   ]
  },
  {
   "cell_type": "code",
   "execution_count": null,
   "id": "188ac143",
   "metadata": {},
   "outputs": [],
   "source": []
  },
  {
   "cell_type": "code",
   "execution_count": null,
   "id": "c4820af2",
   "metadata": {},
   "outputs": [],
   "source": []
  }
 ],
 "metadata": {
  "kernelspec": {
   "display_name": "Python 3 (ipykernel)",
   "language": "python",
   "name": "python3"
  },
  "language_info": {
   "codemirror_mode": {
    "name": "ipython",
    "version": 3
   },
   "file_extension": ".py",
   "mimetype": "text/x-python",
   "name": "python",
   "nbconvert_exporter": "python",
   "pygments_lexer": "ipython3",
   "version": "3.10.12"
  }
 },
 "nbformat": 4,
 "nbformat_minor": 5
}
